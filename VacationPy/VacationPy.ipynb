{
 "cells": [
  {
   "cell_type": "code",
   "execution_count": 22,
   "metadata": {},
   "outputs": [],
   "source": [
    "#dependencies\n",
    "import pandas as pd\n",
    "import numpy as np\n",
    "import random\n",
    "#\n",
    "import json\n",
    "import requests\n",
    "from config import api_opw1"
   ]
  },
  {
   "cell_type": "code",
   "execution_count": 4,
   "metadata": {},
   "outputs": [
    {
     "data": {
      "text/html": [
       "<div>\n",
       "<style scoped>\n",
       "    .dataframe tbody tr th:only-of-type {\n",
       "        vertical-align: middle;\n",
       "    }\n",
       "\n",
       "    .dataframe tbody tr th {\n",
       "        vertical-align: top;\n",
       "    }\n",
       "\n",
       "    .dataframe thead th {\n",
       "        text-align: right;\n",
       "    }\n",
       "</style>\n",
       "<table border=\"1\" class=\"dataframe\">\n",
       "  <thead>\n",
       "    <tr style=\"text-align: right;\">\n",
       "      <th></th>\n",
       "      <th>Country</th>\n",
       "      <th>City</th>\n",
       "      <th>Latitude</th>\n",
       "      <th>Longitude</th>\n",
       "    </tr>\n",
       "  </thead>\n",
       "  <tbody>\n",
       "    <tr>\n",
       "      <th>0</th>\n",
       "      <td>ad</td>\n",
       "      <td>andorra la vella</td>\n",
       "      <td>42.500000</td>\n",
       "      <td>1.516667</td>\n",
       "    </tr>\n",
       "    <tr>\n",
       "      <th>1</th>\n",
       "      <td>ad</td>\n",
       "      <td>canillo</td>\n",
       "      <td>42.566667</td>\n",
       "      <td>1.600000</td>\n",
       "    </tr>\n",
       "    <tr>\n",
       "      <th>2</th>\n",
       "      <td>ad</td>\n",
       "      <td>encamp</td>\n",
       "      <td>42.533333</td>\n",
       "      <td>1.583333</td>\n",
       "    </tr>\n",
       "    <tr>\n",
       "      <th>3</th>\n",
       "      <td>ad</td>\n",
       "      <td>la massana</td>\n",
       "      <td>42.550000</td>\n",
       "      <td>1.516667</td>\n",
       "    </tr>\n",
       "    <tr>\n",
       "      <th>4</th>\n",
       "      <td>ad</td>\n",
       "      <td>les escaldes</td>\n",
       "      <td>42.500000</td>\n",
       "      <td>1.533333</td>\n",
       "    </tr>\n",
       "  </tbody>\n",
       "</table>\n",
       "</div>"
      ],
      "text/plain": [
       "  Country              City   Latitude  Longitude\n",
       "0      ad  andorra la vella  42.500000   1.516667\n",
       "1      ad           canillo  42.566667   1.600000\n",
       "2      ad            encamp  42.533333   1.583333\n",
       "3      ad        la massana  42.550000   1.516667\n",
       "4      ad      les escaldes  42.500000   1.533333"
      ]
     },
     "execution_count": 4,
     "metadata": {},
     "output_type": "execute_result"
    }
   ],
   "source": [
    "#cities\n",
    "cities_df = pd.read_csv('worldcities.csv')\n",
    "cities_df.head(5)\n"
   ]
  },
  {
   "cell_type": "code",
   "execution_count": 5,
   "metadata": {},
   "outputs": [],
   "source": [
    "#random 550\n",
    "high = len(cities_df[\"Country\"])\n",
    "#print(high)\n",
    "\n",
    "cities_num = []\n",
    "cities_num = np.random.randint(1,high,550).tolist()\n",
    "#cities_num"
   ]
  },
  {
   "cell_type": "code",
   "execution_count": 63,
   "metadata": {},
   "outputs": [
    {
     "name": "stdout",
     "output_type": "stream",
     "text": [
      "54.605211 18.235514000000002\n"
     ]
    }
   ],
   "source": [
    "#random cities\n",
    "lats = []\n",
    "lons = []\n",
    "for i in cities_num:\n",
    "    lat = cities_df[\"Latitude\"][i]\n",
    "    lon = cities_df[\"Longitude\"][i]\n",
    "    lats.append(lat)\n",
    "    lons.append(lon)\n",
    "    \n",
    "latq = lats[2]\n",
    "lonq = lons[2]\n",
    "print(f\"{latq} {lonq}\")"
   ]
  },
  {
   "cell_type": "code",
   "execution_count": 53,
   "metadata": {},
   "outputs": [
    {
     "name": "stdout",
     "output_type": "stream",
     "text": [
      "a8449cb2258ef2c558e6a4a83bcb627f\n",
      "54.605211\n",
      "18.235514000000002\n",
      "https://api.openweathermap.org/data/2.5/weather?lat=54.605211&lon=18.235514000000002&appid=a8449cb2258ef2c558e6a4a83bcb627f&units=imperial\n"
     ]
    },
    {
     "data": {
      "text/plain": [
       "{'coord': {'lon': 18.2355, 'lat': 54.6052},\n",
       " 'weather': [{'id': 803,\n",
       "   'main': 'Clouds',\n",
       "   'description': 'broken clouds',\n",
       "   'icon': '04d'}],\n",
       " 'base': 'stations',\n",
       " 'main': {'temp': 73.74,\n",
       "  'feels_like': 73.96,\n",
       "  'temp_min': 69.67,\n",
       "  'temp_max': 76.66,\n",
       "  'pressure': 1009,\n",
       "  'humidity': 67,\n",
       "  'sea_level': 1009,\n",
       "  'grnd_level': 1005},\n",
       " 'visibility': 10000,\n",
       " 'wind': {'speed': 6.29, 'deg': 129, 'gust': 7.72},\n",
       " 'clouds': {'all': 55},\n",
       " 'dt': 1625498279,\n",
       " 'sys': {'type': 1,\n",
       "  'id': 1696,\n",
       "  'country': 'PL',\n",
       "  'sunrise': 1625451528,\n",
       "  'sunset': 1625513047},\n",
       " 'timezone': 7200,\n",
       " 'id': 3082473,\n",
       " 'name': 'Wejherowo',\n",
       " 'cod': 200}"
      ]
     },
     "execution_count": 53,
     "metadata": {},
     "output_type": "execute_result"
    }
   ],
   "source": [
    "#weather\n",
    "url = \"https://api.openweathermap.org/data/2.5/weather?\"\n",
    "query = f\"lat={latq}&lon={lonq}&appid={api_opw1}&units=imperial\"\n",
    "query_url = f\"{url}{query}\"\n",
    "#print(lats[2])\n",
    "#print(lonq)\n",
    "#print(query_url)\n",
    "\n",
    "response = requests.get(query_url).json()\n",
    "response"
   ]
  },
  {
   "cell_type": "code",
   "execution_count": 65,
   "metadata": {},
   "outputs": [
    {
     "name": "stdout",
     "output_type": "stream",
     "text": [
      "73.74\n",
      "67\n",
      "55\n",
      "6.29\n",
      "Wejherowo\n",
      "200\n",
      "54.605211\n",
      "18.235514000000002\n"
     ]
    }
   ],
   "source": [
    "temp = response[\"main\"][\"temp\"]\n",
    "hum = response[\"main\"][\"humidity\"]\n",
    "cloud = response[\"clouds\"][\"all\"]\n",
    "wind = response[\"wind\"][\"speed\"]\n",
    "name = response[\"name\"]\n",
    "cod = response[\"cod\"]\n",
    "\n",
    "print(temp)\n",
    "print(hum)\n",
    "print(cloud)\n",
    "print(wind)\n",
    "print(name)\n",
    "print(cod)\n",
    "print(latq)\n",
    "print(lonq)"
   ]
  }
 ],
 "metadata": {
  "kernelspec": {
   "display_name": "Python [conda env:root] *",
   "language": "python",
   "name": "conda-root-py"
  },
  "language_info": {
   "codemirror_mode": {
    "name": "ipython",
    "version": 3
   },
   "file_extension": ".py",
   "mimetype": "text/x-python",
   "name": "python",
   "nbconvert_exporter": "python",
   "pygments_lexer": "ipython3",
   "version": "3.8.5"
  }
 },
 "nbformat": 4,
 "nbformat_minor": 4
}
